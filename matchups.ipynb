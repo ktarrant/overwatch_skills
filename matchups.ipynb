{
 "cells": [
  {
   "cell_type": "code",
   "execution_count": 3,
   "id": "initial_id",
   "metadata": {
    "collapsed": true,
    "ExecuteTime": {
     "end_time": "2024-11-25T08:13:52.277880Z",
     "start_time": "2024-11-25T08:13:52.201556Z"
    }
   },
   "outputs": [
    {
     "data": {
      "text/plain": "               Mobility  Power  Utility  Range\nD.Va                  9      7        6      5\nDoomfist             10      6        7      3\nJunker Queen          6      8        6      4\nOrisa                 4      7        7      6\nRamattra              5      8        7      5\nReinhardt             4      8        6      2\nRoadhog               3      8        5      3\nSigma                 5      7        8      7\nWinston               9      6        7      5\nWrecking Ball        10      6        8      4\nZarya                 4      8        6      4\nAshe                  6      8        5      8\nBastion               3      9        5      7\nCassidy               4      8        4      6\nEcho                  9      8        7      8\nGenji                10      7        6      5\nHanzo                 6      8        6      9\nJunkrat               5      8        6      7\nMei                   4      7        8      6\nPharah                9      7        5      8\nReaper                5      8        5      4\nSojourn               7      8        5      8\nSoldier: 76           7      7        4      7\nSombra               10      6        9      4\nSymmetra              4      7        8      5\nTorbjörn              3      7        7      6\nTracer               10      6        7      4\nWidowmaker            3      7        5     10\nAna                   3      8        9     10\nBaptiste              7      7        8      8\nBrigitte              4      7        7      4\nIllari                6      8        6      8\nKiriko                9      7        8      9\nLifeweaver            5      6       10      7\nLucio                10      6        8      4\nMercy                10      6        9      8\nMoira                 7      7        5      5\nZenyatta              3      8        7      9",
      "text/html": "<div>\n<style scoped>\n    .dataframe tbody tr th:only-of-type {\n        vertical-align: middle;\n    }\n\n    .dataframe tbody tr th {\n        vertical-align: top;\n    }\n\n    .dataframe thead th {\n        text-align: right;\n    }\n</style>\n<table border=\"1\" class=\"dataframe\">\n  <thead>\n    <tr style=\"text-align: right;\">\n      <th></th>\n      <th>Mobility</th>\n      <th>Power</th>\n      <th>Utility</th>\n      <th>Range</th>\n    </tr>\n  </thead>\n  <tbody>\n    <tr>\n      <th>D.Va</th>\n      <td>9</td>\n      <td>7</td>\n      <td>6</td>\n      <td>5</td>\n    </tr>\n    <tr>\n      <th>Doomfist</th>\n      <td>10</td>\n      <td>6</td>\n      <td>7</td>\n      <td>3</td>\n    </tr>\n    <tr>\n      <th>Junker Queen</th>\n      <td>6</td>\n      <td>8</td>\n      <td>6</td>\n      <td>4</td>\n    </tr>\n    <tr>\n      <th>Orisa</th>\n      <td>4</td>\n      <td>7</td>\n      <td>7</td>\n      <td>6</td>\n    </tr>\n    <tr>\n      <th>Ramattra</th>\n      <td>5</td>\n      <td>8</td>\n      <td>7</td>\n      <td>5</td>\n    </tr>\n    <tr>\n      <th>Reinhardt</th>\n      <td>4</td>\n      <td>8</td>\n      <td>6</td>\n      <td>2</td>\n    </tr>\n    <tr>\n      <th>Roadhog</th>\n      <td>3</td>\n      <td>8</td>\n      <td>5</td>\n      <td>3</td>\n    </tr>\n    <tr>\n      <th>Sigma</th>\n      <td>5</td>\n      <td>7</td>\n      <td>8</td>\n      <td>7</td>\n    </tr>\n    <tr>\n      <th>Winston</th>\n      <td>9</td>\n      <td>6</td>\n      <td>7</td>\n      <td>5</td>\n    </tr>\n    <tr>\n      <th>Wrecking Ball</th>\n      <td>10</td>\n      <td>6</td>\n      <td>8</td>\n      <td>4</td>\n    </tr>\n    <tr>\n      <th>Zarya</th>\n      <td>4</td>\n      <td>8</td>\n      <td>6</td>\n      <td>4</td>\n    </tr>\n    <tr>\n      <th>Ashe</th>\n      <td>6</td>\n      <td>8</td>\n      <td>5</td>\n      <td>8</td>\n    </tr>\n    <tr>\n      <th>Bastion</th>\n      <td>3</td>\n      <td>9</td>\n      <td>5</td>\n      <td>7</td>\n    </tr>\n    <tr>\n      <th>Cassidy</th>\n      <td>4</td>\n      <td>8</td>\n      <td>4</td>\n      <td>6</td>\n    </tr>\n    <tr>\n      <th>Echo</th>\n      <td>9</td>\n      <td>8</td>\n      <td>7</td>\n      <td>8</td>\n    </tr>\n    <tr>\n      <th>Genji</th>\n      <td>10</td>\n      <td>7</td>\n      <td>6</td>\n      <td>5</td>\n    </tr>\n    <tr>\n      <th>Hanzo</th>\n      <td>6</td>\n      <td>8</td>\n      <td>6</td>\n      <td>9</td>\n    </tr>\n    <tr>\n      <th>Junkrat</th>\n      <td>5</td>\n      <td>8</td>\n      <td>6</td>\n      <td>7</td>\n    </tr>\n    <tr>\n      <th>Mei</th>\n      <td>4</td>\n      <td>7</td>\n      <td>8</td>\n      <td>6</td>\n    </tr>\n    <tr>\n      <th>Pharah</th>\n      <td>9</td>\n      <td>7</td>\n      <td>5</td>\n      <td>8</td>\n    </tr>\n    <tr>\n      <th>Reaper</th>\n      <td>5</td>\n      <td>8</td>\n      <td>5</td>\n      <td>4</td>\n    </tr>\n    <tr>\n      <th>Sojourn</th>\n      <td>7</td>\n      <td>8</td>\n      <td>5</td>\n      <td>8</td>\n    </tr>\n    <tr>\n      <th>Soldier: 76</th>\n      <td>7</td>\n      <td>7</td>\n      <td>4</td>\n      <td>7</td>\n    </tr>\n    <tr>\n      <th>Sombra</th>\n      <td>10</td>\n      <td>6</td>\n      <td>9</td>\n      <td>4</td>\n    </tr>\n    <tr>\n      <th>Symmetra</th>\n      <td>4</td>\n      <td>7</td>\n      <td>8</td>\n      <td>5</td>\n    </tr>\n    <tr>\n      <th>Torbjörn</th>\n      <td>3</td>\n      <td>7</td>\n      <td>7</td>\n      <td>6</td>\n    </tr>\n    <tr>\n      <th>Tracer</th>\n      <td>10</td>\n      <td>6</td>\n      <td>7</td>\n      <td>4</td>\n    </tr>\n    <tr>\n      <th>Widowmaker</th>\n      <td>3</td>\n      <td>7</td>\n      <td>5</td>\n      <td>10</td>\n    </tr>\n    <tr>\n      <th>Ana</th>\n      <td>3</td>\n      <td>8</td>\n      <td>9</td>\n      <td>10</td>\n    </tr>\n    <tr>\n      <th>Baptiste</th>\n      <td>7</td>\n      <td>7</td>\n      <td>8</td>\n      <td>8</td>\n    </tr>\n    <tr>\n      <th>Brigitte</th>\n      <td>4</td>\n      <td>7</td>\n      <td>7</td>\n      <td>4</td>\n    </tr>\n    <tr>\n      <th>Illari</th>\n      <td>6</td>\n      <td>8</td>\n      <td>6</td>\n      <td>8</td>\n    </tr>\n    <tr>\n      <th>Kiriko</th>\n      <td>9</td>\n      <td>7</td>\n      <td>8</td>\n      <td>9</td>\n    </tr>\n    <tr>\n      <th>Lifeweaver</th>\n      <td>5</td>\n      <td>6</td>\n      <td>10</td>\n      <td>7</td>\n    </tr>\n    <tr>\n      <th>Lucio</th>\n      <td>10</td>\n      <td>6</td>\n      <td>8</td>\n      <td>4</td>\n    </tr>\n    <tr>\n      <th>Mercy</th>\n      <td>10</td>\n      <td>6</td>\n      <td>9</td>\n      <td>8</td>\n    </tr>\n    <tr>\n      <th>Moira</th>\n      <td>7</td>\n      <td>7</td>\n      <td>5</td>\n      <td>5</td>\n    </tr>\n    <tr>\n      <th>Zenyatta</th>\n      <td>3</td>\n      <td>8</td>\n      <td>7</td>\n      <td>9</td>\n    </tr>\n  </tbody>\n</table>\n</div>"
     },
     "execution_count": 3,
     "metadata": {},
     "output_type": "execute_result"
    }
   ],
   "source": [
    "import json\n",
    "import pandas as pd\n",
    "\n",
    "with open(\"rankings/heroes.json\", \"r\") as file:\n",
    "    hero_rankings_by_role = json.load(file)\n",
    "\n",
    "hero_rankings = {hero.pop(\"Hero\"): hero\n",
    "                 for heroes in hero_rankings_by_role.values()\n",
    "                 for hero in heroes}\n",
    "\n",
    "hero_rankings = pd.DataFrame(hero_rankings).transpose()\n",
    "hero_rankings"
   ]
  },
  {
   "cell_type": "code",
   "outputs": [
    {
     "data": {
      "text/plain": "Mobility     36\nPower        -4\nUtility      -4\nRange       -25\nTotal         3\nHero        Ana\ndtype: object"
     },
     "execution_count": 12,
     "metadata": {},
     "output_type": "execute_result"
    }
   ],
   "source": [
    "def compute_matchup_score(hero1, hero2):\n",
    "    hero1_ranking = hero_rankings.loc[hero1]\n",
    "    hero2_ranking = hero_rankings.loc[hero2]\n",
    "    matchup = pd.Series()\n",
    "    for category in hero1_ranking.index:\n",
    "        if category == \"Hero\":\n",
    "            continue\n",
    "        diff = hero1_ranking.loc[category] - hero2_ranking.loc[category]\n",
    "        score = diff * abs(diff)\n",
    "        matchup.loc[category] = score\n",
    "    matchup.loc[\"Total\"] = matchup.sum()\n",
    "    matchup.loc[\"Hero\"] = hero2\n",
    "    return matchup\n",
    "\n",
    "compute_matchup_score(\"Winston\", \"Ana\")"
   ],
   "metadata": {
    "collapsed": false,
    "ExecuteTime": {
     "end_time": "2024-11-25T08:17:32.504231Z",
     "start_time": "2024-11-25T08:17:32.455459Z"
    }
   },
   "id": "a8ac0e954316b6da",
   "execution_count": 12
  },
  {
   "cell_type": "code",
   "outputs": [
    {
     "data": {
      "text/plain": "               Mobility  Power  Utility  Range  Total\nHero                                                 \nRoadhog              36     -4        4      4     40\nTorbjörn             36     -1        0     -1     34\nReinhardt            25     -4        1      9     31\nCassidy              25     -4        9     -1     29\nBastion              36     -9        4     -4     27\nBrigitte             25     -1        0      1     25\nOrisa                25     -1        0     -1     23\nZarya                25     -4        1      1     23\nSymmetra             25     -1       -1      0     23\nMei                  25     -1       -1     -1     22\nReaper               16     -4        4      1     17\nZenyatta             36     -4        0    -16     16\nWidowmaker           36     -1        4    -25     14\nRamattra             16     -4        0      0     12\nSigma                16     -1       -1     -4     10\nJunkrat              16     -4        1     -4      9\nSoldier: 76           4     -1        9     -4      8\nJunker Queen          9     -4        1      1      7\nMoira                 4     -1        4      0      7\nLifeweaver           16      0       -9     -4      3\nDoomfist             -1      0        0      4      3\nAna                  36     -4       -4    -25      3\nD.Va                  0     -1        1      0      0\nAshe                  9     -4        4     -9      0\nTracer               -1      0        0      1      0\nGenji                -1     -1        1      0     -1\nWrecking Ball        -1      0       -1      1     -1\nLucio                -1      0       -1      1     -1\nIllari                9     -4        1     -9     -3\nSombra               -1      0       -4      1     -4\nSojourn               4     -4        4     -9     -5\nPharah                0     -1        4     -9     -6\nBaptiste              4     -1       -1     -9     -7\nHanzo                 9     -4        1    -16    -10\nEcho                  0     -4        0     -9    -13\nMercy                -1      0       -4     -9    -14\nKiriko                0     -1       -1    -16    -18",
      "text/html": "<div>\n<style scoped>\n    .dataframe tbody tr th:only-of-type {\n        vertical-align: middle;\n    }\n\n    .dataframe tbody tr th {\n        vertical-align: top;\n    }\n\n    .dataframe thead th {\n        text-align: right;\n    }\n</style>\n<table border=\"1\" class=\"dataframe\">\n  <thead>\n    <tr style=\"text-align: right;\">\n      <th></th>\n      <th>Mobility</th>\n      <th>Power</th>\n      <th>Utility</th>\n      <th>Range</th>\n      <th>Total</th>\n    </tr>\n    <tr>\n      <th>Hero</th>\n      <th></th>\n      <th></th>\n      <th></th>\n      <th></th>\n      <th></th>\n    </tr>\n  </thead>\n  <tbody>\n    <tr>\n      <th>Roadhog</th>\n      <td>36</td>\n      <td>-4</td>\n      <td>4</td>\n      <td>4</td>\n      <td>40</td>\n    </tr>\n    <tr>\n      <th>Torbjörn</th>\n      <td>36</td>\n      <td>-1</td>\n      <td>0</td>\n      <td>-1</td>\n      <td>34</td>\n    </tr>\n    <tr>\n      <th>Reinhardt</th>\n      <td>25</td>\n      <td>-4</td>\n      <td>1</td>\n      <td>9</td>\n      <td>31</td>\n    </tr>\n    <tr>\n      <th>Cassidy</th>\n      <td>25</td>\n      <td>-4</td>\n      <td>9</td>\n      <td>-1</td>\n      <td>29</td>\n    </tr>\n    <tr>\n      <th>Bastion</th>\n      <td>36</td>\n      <td>-9</td>\n      <td>4</td>\n      <td>-4</td>\n      <td>27</td>\n    </tr>\n    <tr>\n      <th>Brigitte</th>\n      <td>25</td>\n      <td>-1</td>\n      <td>0</td>\n      <td>1</td>\n      <td>25</td>\n    </tr>\n    <tr>\n      <th>Orisa</th>\n      <td>25</td>\n      <td>-1</td>\n      <td>0</td>\n      <td>-1</td>\n      <td>23</td>\n    </tr>\n    <tr>\n      <th>Zarya</th>\n      <td>25</td>\n      <td>-4</td>\n      <td>1</td>\n      <td>1</td>\n      <td>23</td>\n    </tr>\n    <tr>\n      <th>Symmetra</th>\n      <td>25</td>\n      <td>-1</td>\n      <td>-1</td>\n      <td>0</td>\n      <td>23</td>\n    </tr>\n    <tr>\n      <th>Mei</th>\n      <td>25</td>\n      <td>-1</td>\n      <td>-1</td>\n      <td>-1</td>\n      <td>22</td>\n    </tr>\n    <tr>\n      <th>Reaper</th>\n      <td>16</td>\n      <td>-4</td>\n      <td>4</td>\n      <td>1</td>\n      <td>17</td>\n    </tr>\n    <tr>\n      <th>Zenyatta</th>\n      <td>36</td>\n      <td>-4</td>\n      <td>0</td>\n      <td>-16</td>\n      <td>16</td>\n    </tr>\n    <tr>\n      <th>Widowmaker</th>\n      <td>36</td>\n      <td>-1</td>\n      <td>4</td>\n      <td>-25</td>\n      <td>14</td>\n    </tr>\n    <tr>\n      <th>Ramattra</th>\n      <td>16</td>\n      <td>-4</td>\n      <td>0</td>\n      <td>0</td>\n      <td>12</td>\n    </tr>\n    <tr>\n      <th>Sigma</th>\n      <td>16</td>\n      <td>-1</td>\n      <td>-1</td>\n      <td>-4</td>\n      <td>10</td>\n    </tr>\n    <tr>\n      <th>Junkrat</th>\n      <td>16</td>\n      <td>-4</td>\n      <td>1</td>\n      <td>-4</td>\n      <td>9</td>\n    </tr>\n    <tr>\n      <th>Soldier: 76</th>\n      <td>4</td>\n      <td>-1</td>\n      <td>9</td>\n      <td>-4</td>\n      <td>8</td>\n    </tr>\n    <tr>\n      <th>Junker Queen</th>\n      <td>9</td>\n      <td>-4</td>\n      <td>1</td>\n      <td>1</td>\n      <td>7</td>\n    </tr>\n    <tr>\n      <th>Moira</th>\n      <td>4</td>\n      <td>-1</td>\n      <td>4</td>\n      <td>0</td>\n      <td>7</td>\n    </tr>\n    <tr>\n      <th>Lifeweaver</th>\n      <td>16</td>\n      <td>0</td>\n      <td>-9</td>\n      <td>-4</td>\n      <td>3</td>\n    </tr>\n    <tr>\n      <th>Doomfist</th>\n      <td>-1</td>\n      <td>0</td>\n      <td>0</td>\n      <td>4</td>\n      <td>3</td>\n    </tr>\n    <tr>\n      <th>Ana</th>\n      <td>36</td>\n      <td>-4</td>\n      <td>-4</td>\n      <td>-25</td>\n      <td>3</td>\n    </tr>\n    <tr>\n      <th>D.Va</th>\n      <td>0</td>\n      <td>-1</td>\n      <td>1</td>\n      <td>0</td>\n      <td>0</td>\n    </tr>\n    <tr>\n      <th>Ashe</th>\n      <td>9</td>\n      <td>-4</td>\n      <td>4</td>\n      <td>-9</td>\n      <td>0</td>\n    </tr>\n    <tr>\n      <th>Tracer</th>\n      <td>-1</td>\n      <td>0</td>\n      <td>0</td>\n      <td>1</td>\n      <td>0</td>\n    </tr>\n    <tr>\n      <th>Genji</th>\n      <td>-1</td>\n      <td>-1</td>\n      <td>1</td>\n      <td>0</td>\n      <td>-1</td>\n    </tr>\n    <tr>\n      <th>Wrecking Ball</th>\n      <td>-1</td>\n      <td>0</td>\n      <td>-1</td>\n      <td>1</td>\n      <td>-1</td>\n    </tr>\n    <tr>\n      <th>Lucio</th>\n      <td>-1</td>\n      <td>0</td>\n      <td>-1</td>\n      <td>1</td>\n      <td>-1</td>\n    </tr>\n    <tr>\n      <th>Illari</th>\n      <td>9</td>\n      <td>-4</td>\n      <td>1</td>\n      <td>-9</td>\n      <td>-3</td>\n    </tr>\n    <tr>\n      <th>Sombra</th>\n      <td>-1</td>\n      <td>0</td>\n      <td>-4</td>\n      <td>1</td>\n      <td>-4</td>\n    </tr>\n    <tr>\n      <th>Sojourn</th>\n      <td>4</td>\n      <td>-4</td>\n      <td>4</td>\n      <td>-9</td>\n      <td>-5</td>\n    </tr>\n    <tr>\n      <th>Pharah</th>\n      <td>0</td>\n      <td>-1</td>\n      <td>4</td>\n      <td>-9</td>\n      <td>-6</td>\n    </tr>\n    <tr>\n      <th>Baptiste</th>\n      <td>4</td>\n      <td>-1</td>\n      <td>-1</td>\n      <td>-9</td>\n      <td>-7</td>\n    </tr>\n    <tr>\n      <th>Hanzo</th>\n      <td>9</td>\n      <td>-4</td>\n      <td>1</td>\n      <td>-16</td>\n      <td>-10</td>\n    </tr>\n    <tr>\n      <th>Echo</th>\n      <td>0</td>\n      <td>-4</td>\n      <td>0</td>\n      <td>-9</td>\n      <td>-13</td>\n    </tr>\n    <tr>\n      <th>Mercy</th>\n      <td>-1</td>\n      <td>0</td>\n      <td>-4</td>\n      <td>-9</td>\n      <td>-14</td>\n    </tr>\n    <tr>\n      <th>Kiriko</th>\n      <td>0</td>\n      <td>-1</td>\n      <td>-1</td>\n      <td>-16</td>\n      <td>-18</td>\n    </tr>\n  </tbody>\n</table>\n</div>"
     },
     "execution_count": 15,
     "metadata": {},
     "output_type": "execute_result"
    }
   ],
   "source": [
    "def build_matchup_table(hero):\n",
    "    matchups = []\n",
    "    for opp in hero_rankings.index:\n",
    "        if opp == hero:\n",
    "            continue\n",
    "        matchups.append(compute_matchup_score(hero, opp))\n",
    "    df = pd.DataFrame(matchups)\n",
    "    return df.set_index(\"Hero\").sort_values(by=\"Total\", ascending=False)\n",
    "\n",
    "build_matchup_table(\"Winston\")"
   ],
   "metadata": {
    "collapsed": false,
    "ExecuteTime": {
     "end_time": "2024-11-25T08:21:28.864981Z",
     "start_time": "2024-11-25T08:21:28.726407Z"
    }
   },
   "id": "d7295a21f8827e86",
   "execution_count": 15
  },
  {
   "cell_type": "code",
   "outputs": [],
   "source": [],
   "metadata": {
    "collapsed": false
   },
   "id": "f247e2669b815451"
  }
 ],
 "metadata": {
  "kernelspec": {
   "display_name": "Python 3",
   "language": "python",
   "name": "python3"
  },
  "language_info": {
   "codemirror_mode": {
    "name": "ipython",
    "version": 2
   },
   "file_extension": ".py",
   "mimetype": "text/x-python",
   "name": "python",
   "nbconvert_exporter": "python",
   "pygments_lexer": "ipython2",
   "version": "2.7.6"
  }
 },
 "nbformat": 4,
 "nbformat_minor": 5
}
