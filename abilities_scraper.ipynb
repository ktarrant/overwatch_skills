{
 "cells": [
  {
   "cell_type": "code",
   "execution_count": 1,
   "id": "bc49191b-cd96-44cc-8596-abac1ff82a5b",
   "metadata": {
    "ExecuteTime": {
     "end_time": "2024-11-07T08:41:20.469530Z",
     "start_time": "2024-11-07T08:41:20.194359Z"
    }
   },
   "outputs": [],
   "source": [
    "import pprint\n",
    "import time\n",
    "from scraper.wiki.heroes import get_heroes_list, get_hero_abilities\n",
    "    "
   ]
  },
  {
   "cell_type": "code",
   "outputs": [],
   "source": [
    "heroes_data = {}\n",
    "abilities_data = {}\n",
    "\n",
    "heroes_list = get_heroes_list()\n",
    "time.sleep(1)\n",
    "\n",
    "for hero_name, hero_url in heroes_list:\n",
    "    hero_data = {\n",
    "        \"name\": hero_name,\n",
    "        \"url\": hero_url,\n",
    "        # TODO: Health?\n",
    "    }\n",
    "    \n",
    "    hero_abilities = get_hero_abilities(hero_url)\n",
    "    hero_data[\"abilities\"] = [ability[\"name\"] for ability in hero_abilities]\n",
    "    for ability in hero_abilities:\n",
    "        abilities_data[ability[\"name\"]] = ability\n",
    "    \n",
    "    heroes_data[hero_name] = hero_data\n",
    "    time.sleep(1)\n",
    "    break"
   ],
   "metadata": {
    "collapsed": false,
    "ExecuteTime": {
     "end_time": "2024-11-07T08:41:23.778590Z",
     "start_time": "2024-11-07T08:41:21.051482Z"
    }
   },
   "id": "d41c4e801006eff8",
   "execution_count": 2
  },
  {
   "cell_type": "code",
   "execution_count": 3,
   "id": "776b20f1-4204-4e84-a2c8-c62942223f1c",
   "metadata": {
    "ExecuteTime": {
     "end_time": "2024-11-07T08:41:24.441243Z",
     "start_time": "2024-11-07T08:41:24.426433Z"
    }
   },
   "outputs": [
    {
     "data": {
      "text/plain": "{'Ana': {'name': 'Ana',\n  'url': 'https://overwatch.fandom.com/wiki/Ana',\n  'abilities': ['Role: Support',\n   'Biotic Rifle',\n   'Sleep Dart',\n   'Biotic Grenade',\n   'Nano Boost']}}"
     },
     "execution_count": 3,
     "metadata": {},
     "output_type": "execute_result"
    }
   ],
   "source": [
    "heroes_data"
   ]
  },
  {
   "cell_type": "code",
   "outputs": [
    {
     "data": {
      "text/plain": "{'Role: Support': {'image_url': 'https://static.wikia.nocookie.net/overwatch_gamepedia/images/5/5f/SupportIcon.png/revision/latest/scale-to-width-down/100?cb=20151109212032',\n  'summary': 'Begin regenerating health more quickly.',\n  'name': 'Role: Support'},\n 'Biotic Rifle': {'image_url': 'https://static.wikia.nocookie.net/overwatch_gamepedia/images/f/fc/Ability-ana1.png/revision/latest/scale-to-width-down/100?cb=20181119020608',\n  'affects': ['Blocked by barriers.',\n   'Blocked by Defense Matrix/Kinetic Grasp.',\n   'Blocked by Deflect/Javelin Spin.',\n   'Affected by damage boosts.',\n   'Affected by Amplification Matrix.'],\n  'summary': 'Long-range rifle that heals allies and damages enemies. Hold to zoom in.',\n  'name': 'Biotic Rifle',\n  'keybind': 'Key mouse 1',\n  'Damage': '70 over 0.59 seconds',\n  'Headshot': '✕',\n  'Healing': '70 over 0.59 seconds',\n  'Rate of fire': '0.8 seconds recovery',\n  'Ammo': '15',\n  'Reload time': '1.5 seconds animation',\n  'Cast time': '0.24 seconds for scope in0.16 seconds for scope out',\n  'Duration': '0.59 seconds effect',\n  'Spread angle': 'None',\n  'M. speed penalty': '-65% (scoped)',\n  'Projectile speed': '125 m/s (unscoped)',\n  'Projectile radius': '0.15 meters (hip fire)0.08 meters (enemies, ADS)0.3 meters (allies, ADS)'},\n 'Sleep Dart': {'image_url': 'https://static.wikia.nocookie.net/overwatch_gamepedia/images/5/58/Ability-ana2.png/revision/latest/scale-to-width-down/100?cb=20160712180312',\n  'affects': ['Blocked by barriers.',\n   'Blocked by Defense Matrix/Kinetic Grasp.',\n   'Blocked by Deflect/Javelin Spin.',\n   'Affected by damage boosts.',\n   'Affected by Amplification Matrix.'],\n  'summary': 'Fires a dart that puts an enemy to sleep.',\n  'name': 'Sleep Dart',\n  'Damage': '5',\n  'Headshot': '✕',\n  'Cast time': '0.24 + 0.75 seconds',\n  'Duration': '1.5 - 5 seconds (non-tanks)1.5 - 3 seconds (tanks)',\n  'Projectile speed': '60 m/s',\n  'Projectile radius': '0.2 meters'},\n 'Biotic Grenade': {'image_url': 'https://static.wikia.nocookie.net/overwatch_gamepedia/images/0/0c/Ability-ana3.png/revision/latest/scale-to-width-down/100?cb=20160712180326',\n  'affects': ['Blocked by barriers.',\n   'Partially blocked by Defense Matrix/Kinetic Grasp.',\n   'Partially blocked by Deflect/Javelin Spin.',\n   'Affected by damage boosts.',\n   'Partially affected by Amplification Matrix.'],\n  'summary': 'Throws a grenade that heals and increases healing on allies, while damaging and preventing healing on enemies.',\n  'name': 'Biotic Grenade',\n  'Damage': '90',\n  'Headshot': '✕',\n  'Healing': '90',\n  'Healing modification': '+50% received (allies)-100% received (enemies)',\n  'Duration': '3 seconds0.69 seconds recovery',\n  'Area of effect': '4 meters',\n  'Projectile speed': '30 m/s',\n  'Projectile radius': '0.275 meters'},\n 'Nano Boost': {'image_url': 'https://static.wikia.nocookie.net/overwatch_gamepedia/images/9/97/Ability-ana4.png/revision/latest/scale-to-width-down/100?cb=20160712180340',\n  'affects': ['Blocked by barriers.',\n   'Blocked by Defense Matrix/Kinetic Grasp.',\n   'Blocked by Deflect/Javelin Spin.',\n   'Affected by damage boosts.',\n   'Affected by Amplification Matrix.'],\n  'summary': \"Increases an ally's damage, while reducing damage taken.\",\n  'name': 'Nano Boost',\n  'Healing': '250',\n  'Dmg. amplification': '+50% dealt',\n  'Dmg. reduction': '-50% taken',\n  'Cast time': '0.128 seconds + 0.6 seconds recovery',\n  'Duration': '8 seconds',\n  'Max. range': '40 meters'}}"
     },
     "execution_count": 4,
     "metadata": {},
     "output_type": "execute_result"
    }
   ],
   "source": [
    "abilities_data"
   ],
   "metadata": {
    "collapsed": false,
    "ExecuteTime": {
     "end_time": "2024-11-07T08:41:25.353521Z",
     "start_time": "2024-11-07T08:41:25.332403Z"
    }
   },
   "id": "3bea7e40386cdbaf",
   "execution_count": 4
  },
  {
   "cell_type": "code",
   "outputs": [],
   "source": [],
   "metadata": {
    "collapsed": false
   },
   "id": "d57e1ca76e264c05"
  }
 ],
 "metadata": {
  "kernelspec": {
   "display_name": "Python 3 (ipykernel)",
   "language": "python",
   "name": "python3"
  },
  "language_info": {
   "codemirror_mode": {
    "name": "ipython",
    "version": 3
   },
   "file_extension": ".py",
   "mimetype": "text/x-python",
   "name": "python",
   "nbconvert_exporter": "python",
   "pygments_lexer": "ipython3",
   "version": "3.11.7"
  }
 },
 "nbformat": 4,
 "nbformat_minor": 5
}
